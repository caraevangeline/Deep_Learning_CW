{
  "nbformat": 4,
  "nbformat_minor": 0,
  "metadata": {
    "colab": {
      "name": "Coursework3_RNN_MNIST.ipynb",
      "provenance": [],
      "toc_visible": true
    },
    "kernelspec": {
      "name": "python3",
      "display_name": "Python 3"
    }
  },
  "cells": [
    {
      "cell_type": "code",
      "metadata": {
        "id": "XTzNlZ6iMEcP",
        "colab_type": "code",
        "outputId": "cfd03789-0328-41a3-cdc1-3a5d203f70fa",
        "colab": {
          "base_uri": "https://localhost:8080/",
          "height": 34
        }
      },
      "source": [
        "%tensorflow_version 1.x"
      ],
      "execution_count": 1,
      "outputs": [
        {
          "output_type": "stream",
          "text": [
            "TensorFlow 1.x selected.\n"
          ],
          "name": "stdout"
        }
      ]
    },
    {
      "cell_type": "code",
      "metadata": {
        "id": "JSBw3h65MH9Z",
        "colab_type": "code",
        "colab": {
          "base_uri": "https://localhost:8080/",
          "height": 34
        },
        "outputId": "1d48fd04-bbd9-4ee8-9802-bce50e23db95"
      },
      "source": [
        "!mkdir MNIST_data"
      ],
      "execution_count": 14,
      "outputs": [
        {
          "output_type": "stream",
          "text": [
            "mkdir: cannot create directory ‘MNIST_data’: File exists\n"
          ],
          "name": "stdout"
        }
      ]
    },
    {
      "cell_type": "code",
      "metadata": {
        "id": "GRVWHmEXMP3V",
        "colab_type": "code",
        "colab": {}
      },
      "source": [
        "import os, time, itertools, pickle\n",
        "import numpy as np\n",
        "import matplotlib.pyplot as plt\n",
        "import tensorflow as tf\n",
        "from tensorflow.examples.tutorials.mnist import input_data"
      ],
      "execution_count": 0,
      "outputs": []
    },
    {
      "cell_type": "code",
      "metadata": {
        "id": "ZoRjN1HGMWoN",
        "colab_type": "code",
        "outputId": "912cdd4c-88bd-4d1f-d937-760083ba9e71",
        "colab": {
          "base_uri": "https://localhost:8080/",
          "height": 343
        }
      },
      "source": [
        "# hyperparameters\n",
        "n_neurons = 128\n",
        "learning_rate = 0.001\n",
        "batch_size = 128\n",
        "n_epochs = 10\n",
        "# parameters\n",
        "n_steps = 28 # 28 rows\n",
        "n_inputs = 28 # 28 cols\n",
        "n_outputs = 10 # 10 classes\n",
        "# build a rnn model\n",
        "X = tf.placeholder(tf.float32, [None, n_steps, n_inputs])\n",
        "y = tf.placeholder(tf.int32, [None])\n",
        "cell = tf.nn.rnn_cell.BasicRNNCell(num_units=n_neurons)\n",
        "output, state = tf.nn.dynamic_rnn(cell, X, dtype=tf.float32)\n",
        "logits = tf.layers.dense(state, n_outputs)\n",
        "cross_entropy = tf.nn.sparse_softmax_cross_entropy_with_logits(labels=y, logits=logits)\n",
        "loss = tf.reduce_mean(cross_entropy)\n",
        "optimizer = tf.train.AdamOptimizer(learning_rate=learning_rate).minimize(loss)\n",
        "prediction = tf.nn.in_top_k(logits, y, 1)\n",
        "accuracy = tf.reduce_mean(tf.cast(prediction, tf.float32))\n",
        "predictions = tf.argmax(logits,1)"
      ],
      "execution_count": 3,
      "outputs": [
        {
          "output_type": "stream",
          "text": [
            "WARNING:tensorflow:From <ipython-input-3-5dba70fcbcab>:12: BasicRNNCell.__init__ (from tensorflow.python.ops.rnn_cell_impl) is deprecated and will be removed in a future version.\n",
            "Instructions for updating:\n",
            "This class is equivalent as tf.keras.layers.SimpleRNNCell, and will be replaced by that in Tensorflow 2.0.\n",
            "WARNING:tensorflow:From <ipython-input-3-5dba70fcbcab>:13: dynamic_rnn (from tensorflow.python.ops.rnn) is deprecated and will be removed in a future version.\n",
            "Instructions for updating:\n",
            "Please use `keras.layers.RNN(cell)`, which is equivalent to this API\n",
            "WARNING:tensorflow:From /tensorflow-1.15.2/python3.6/tensorflow_core/python/ops/rnn_cell_impl.py:456: Layer.add_variable (from tensorflow.python.keras.engine.base_layer) is deprecated and will be removed in a future version.\n",
            "Instructions for updating:\n",
            "Please use `layer.add_weight` method instead.\n",
            "WARNING:tensorflow:From /tensorflow-1.15.2/python3.6/tensorflow_core/python/ops/rnn_cell_impl.py:460: calling Zeros.__init__ (from tensorflow.python.ops.init_ops) with dtype is deprecated and will be removed in a future version.\n",
            "Instructions for updating:\n",
            "Call initializer instance with the dtype argument instead of passing it to the constructor\n",
            "WARNING:tensorflow:From <ipython-input-3-5dba70fcbcab>:14: dense (from tensorflow.python.layers.core) is deprecated and will be removed in a future version.\n",
            "Instructions for updating:\n",
            "Use keras.layers.Dense instead.\n",
            "WARNING:tensorflow:From /tensorflow-1.15.2/python3.6/tensorflow_core/python/layers/core.py:187: Layer.apply (from tensorflow.python.keras.engine.base_layer) is deprecated and will be removed in a future version.\n",
            "Instructions for updating:\n",
            "Please use `layer.__call__` method instead.\n"
          ],
          "name": "stdout"
        }
      ]
    },
    {
      "cell_type": "code",
      "metadata": {
        "id": "vYgnhqq7MdO6",
        "colab_type": "code",
        "outputId": "40090685-7e4e-483a-acdd-00377753bff2",
        "colab": {
          "base_uri": "https://localhost:8080/",
          "height": 360
        }
      },
      "source": [
        "# input data\n",
        "from tensorflow.examples.tutorials.mnist import input_data\n",
        "mnist = input_data.read_data_sets(\"MNIST_data/\")\n",
        "X_test = mnist.test.images # X_test shape: [num_test, 28*28]\n",
        "X_test = X_test.reshape([-1, n_steps, n_inputs])\n",
        "y_test = mnist.test.labels"
      ],
      "execution_count": 4,
      "outputs": [
        {
          "output_type": "stream",
          "text": [
            "WARNING:tensorflow:From <ipython-input-4-977e8b98fcb1>:2: read_data_sets (from tensorflow.contrib.learn.python.learn.datasets.mnist) is deprecated and will be removed in a future version.\n",
            "Instructions for updating:\n",
            "Please use alternatives such as official/mnist/dataset.py from tensorflow/models.\n",
            "WARNING:tensorflow:From /tensorflow-1.15.2/python3.6/tensorflow_core/contrib/learn/python/learn/datasets/mnist.py:260: maybe_download (from tensorflow.contrib.learn.python.learn.datasets.base) is deprecated and will be removed in a future version.\n",
            "Instructions for updating:\n",
            "Please write your own downloading logic.\n",
            "WARNING:tensorflow:From /tensorflow-1.15.2/python3.6/tensorflow_core/contrib/learn/python/learn/datasets/mnist.py:262: extract_images (from tensorflow.contrib.learn.python.learn.datasets.mnist) is deprecated and will be removed in a future version.\n",
            "Instructions for updating:\n",
            "Please use tf.data to implement this functionality.\n",
            "Extracting MNIST_data/train-images-idx3-ubyte.gz\n",
            "WARNING:tensorflow:From /tensorflow-1.15.2/python3.6/tensorflow_core/contrib/learn/python/learn/datasets/mnist.py:267: extract_labels (from tensorflow.contrib.learn.python.learn.datasets.mnist) is deprecated and will be removed in a future version.\n",
            "Instructions for updating:\n",
            "Please use tf.data to implement this functionality.\n",
            "Extracting MNIST_data/train-labels-idx1-ubyte.gz\n",
            "Extracting MNIST_data/t10k-images-idx3-ubyte.gz\n",
            "Extracting MNIST_data/t10k-labels-idx1-ubyte.gz\n",
            "WARNING:tensorflow:From /tensorflow-1.15.2/python3.6/tensorflow_core/contrib/learn/python/learn/datasets/mnist.py:290: DataSet.__init__ (from tensorflow.contrib.learn.python.learn.datasets.mnist) is deprecated and will be removed in a future version.\n",
            "Instructions for updating:\n",
            "Please use alternatives such as official/mnist/dataset.py from tensorflow/models.\n"
          ],
          "name": "stdout"
        }
      ]
    },
    {
      "cell_type": "code",
      "metadata": {
        "id": "C25VLUIKMoHt",
        "colab_type": "code",
        "outputId": "6966b2df-3572-488e-8d9a-a0b885818e42",
        "colab": {
          "base_uri": "https://localhost:8080/",
          "height": 187
        }
      },
      "source": [
        "# initialize the variables\n",
        "init = tf.global_variables_initializer()\n",
        "# train the model\n",
        "with tf.Session() as sess:\n",
        "    sess.run(init)\n",
        "    n_batches = mnist.train.num_examples // batch_size\n",
        "    for epoch in range(n_epochs):\n",
        "        for batch in range(n_batches):\n",
        "            X_train, y_train = mnist.train.next_batch(batch_size)\n",
        "            X_train = X_train.reshape([-1, n_steps, n_inputs])\n",
        "            sess.run(optimizer, feed_dict={X: X_train, y: y_train})\n",
        "        loss_train, acc_train = sess.run(\n",
        "            [loss, accuracy], feed_dict={X: X_train, y: y_train})\n",
        "        print('Epoch: {}, Train Loss: {:.3f}, Train Acc: {:.3f}'.format(\n",
        "            epoch + 1, loss_train, acc_train))\n",
        "    predict = sess.run(\n",
        "        predictions, feed_dict={X: X_test, y: y_test})\n",
        "    #print('Test Loss: {:.3f}, Test Acc: {:.3f}'.format(loss_test, acc_test))\n",
        "    "
      ],
      "execution_count": 5,
      "outputs": [
        {
          "output_type": "stream",
          "text": [
            "Epoch: 1, Train Loss: 0.292, Train Acc: 0.922\n",
            "Epoch: 2, Train Loss: 0.134, Train Acc: 0.961\n",
            "Epoch: 3, Train Loss: 0.113, Train Acc: 0.969\n",
            "Epoch: 4, Train Loss: 0.092, Train Acc: 0.984\n",
            "Epoch: 5, Train Loss: 0.059, Train Acc: 0.984\n",
            "Epoch: 6, Train Loss: 0.025, Train Acc: 0.992\n",
            "Epoch: 7, Train Loss: 0.041, Train Acc: 0.992\n",
            "Epoch: 8, Train Loss: 0.109, Train Acc: 0.977\n",
            "Epoch: 9, Train Loss: 0.025, Train Acc: 1.000\n",
            "Epoch: 10, Train Loss: 0.096, Train Acc: 0.977\n"
          ],
          "name": "stdout"
        }
      ]
    },
    {
      "cell_type": "code",
      "metadata": {
        "id": "OExkECXzvozi",
        "colab_type": "code",
        "colab": {
          "base_uri": "https://localhost:8080/",
          "height": 296
        },
        "outputId": "b0ac9d65-96e0-4505-eafc-0a76e37cecaf"
      },
      "source": [
        "x = [1,2,3,4,5,6,7,8,9,10]\n",
        "y = [92.2,95.3,96.9,94.5,97.7,97.7,97.7,96.1,99.2,96.9]\n",
        "plt.ylabel('Epoch')\n",
        "plt.xlabel('Accuracy')\n",
        "plt.plot(x,y)"
      ],
      "execution_count": 12,
      "outputs": [
        {
          "output_type": "execute_result",
          "data": {
            "text/plain": [
              "[<matplotlib.lines.Line2D at 0x7f84d48021d0>]"
            ]
          },
          "metadata": {
            "tags": []
          },
          "execution_count": 12
        },
        {
          "output_type": "display_data",
          "data": {
            "image/png": "[encoded data removed]",
            "text/plain": [
              "<Figure size 432x288 with 1 Axes>"
            ]
          },
          "metadata": {
            "tags": [],
            "needs_background": "light"
          }
        }
      ]
    },
    {
      "cell_type": "code",
      "metadata": {
        "id": "O9DzatNJWoMR",
        "colab_type": "code",
        "outputId": "024f9a90-dd8b-4690-d695-cc9f8f05d8be",
        "colab": {
          "base_uri": "https://localhost:8080/",
          "height": 350
        }
      },
      "source": [
        "print(\"The predicted label of index 0 is:\")\n",
        "print(predict[0])\n",
        "print(\"The actual label of index 0 is: \")\n",
        "print(mnist.test.labels[0])\n",
        "first_image = mnist.test.images[0]\n",
        "first_image = np.array(first_image, dtype='float')\n",
        "pixels = first_image.reshape((28, 28))\n",
        "plt.imshow(pixels, cmap='gray')\n",
        "plt.show()\n",
        "print(pixels.shape)"
      ],
      "execution_count": 6,
      "outputs": [
        {
          "output_type": "stream",
          "text": [
            "The predicted label of index 0 is:\n",
            "7\n",
            "The actual label of index 0 is: \n",
            "7\n"
          ],
          "name": "stdout"
        },
        {
          "output_type": "display_data",
          "data": {
            "image/png": "[encoded data removed]",
            "text/plain": [
              "<Figure size 432x288 with 1 Axes>"
            ]
          },
          "metadata": {
            "tags": [],
            "needs_background": "light"
          }
        },
        {
          "output_type": "stream",
          "text": [
            "(28, 28)\n"
          ],
          "name": "stdout"
        }
      ]
    }
  ]
}