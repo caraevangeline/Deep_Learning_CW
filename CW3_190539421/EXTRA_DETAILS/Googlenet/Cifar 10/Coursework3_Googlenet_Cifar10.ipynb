{
  "nbformat": 4,
  "nbformat_minor": 0,
  "metadata": {
    "colab": {
      "name": "Coursework3_Googlenet_Cifar10.ipynb",
      "provenance": [],
      "toc_visible": true
    },
    "kernelspec": {
      "name": "python3",
      "display_name": "Python 3"
    },
    "accelerator": "GPU"
  },
  "cells": [
    {
      "cell_type": "code",
      "metadata": {
        "id": "0SpYIp61IG4t",
        "colab_type": "code",
        "colab": {
          "base_uri": "https://localhost:8080/",
          "height": 34
        },
        "outputId": "759732c4-cfdd-4b5b-ad06-264562588714"
      },
      "source": [
        "%tensorflow_version 1.x"
      ],
      "execution_count": 1,
      "outputs": [
        {
          "output_type": "stream",
          "text": [
            "TensorFlow 1.x selected.\n"
          ],
          "name": "stdout"
        }
      ]
    },
    {
      "cell_type": "code",
      "metadata": {
        "id": "W1i6H_eAIToo",
        "colab_type": "code",
        "colab": {
          "base_uri": "https://localhost:8080/",
          "height": 68
        },
        "outputId": "2436098a-8057-465f-d4cb-2cd4c31ba2bf"
      },
      "source": [
        "import pandas as pd\n",
        "import numpy as np\n",
        "%matplotlib inline\n",
        "import matplotlib.pyplot as plt\n",
        "\n",
        "np.random.seed(451)\n",
        "\n",
        "from keras.datasets import cifar10\n",
        "\n",
        "(x_train, y_train), (x_test, y_test) = cifar10.load_data()\n",
        "\n",
        "x_train = x_train / 255.0\n",
        "x_test = x_test / 255.0"
      ],
      "execution_count": 2,
      "outputs": [
        {
          "output_type": "stream",
          "text": [
            "Using TensorFlow backend.\n"
          ],
          "name": "stderr"
        },
        {
          "output_type": "stream",
          "text": [
            "Downloading data from https://www.cs.toronto.edu/~kriz/cifar-10-python.tar.gz\n",
            "170500096/170498071 [==============================] - 2s 0us/step\n"
          ],
          "name": "stdout"
        }
      ]
    },
    {
      "cell_type": "code",
      "metadata": {
        "id": "gWdJgvfIIVYl",
        "colab_type": "code",
        "colab": {
          "base_uri": "https://localhost:8080/",
          "height": 515
        },
        "outputId": "b4917621-9346-41a5-a777-1ebc28b4fb78"
      },
      "source": [
        "#gray = 0.2989 * r + 0.5870 * g + 0.1140 * b\n",
        "x_train_gray = np.dot(x_train[:,:,:,:3], [0.299, 0.587, 0.114])\n",
        "x_test_gray = np.dot(x_test[:,:,:,:3], [0.299, 0.587, 0.114])\n",
        "\n",
        "x_train_gray = x_train_gray.reshape(-1,32,32,1)\n",
        "x_test_gray = x_test_gray.reshape(-1,32,32,1)\n",
        "\n",
        "from keras.utils.np_utils import to_categorical\n",
        "\n",
        "y_train_cat = to_categorical(y_train)\n",
        "y_test_cat = to_categorical(y_test)\n",
        "\n",
        "plt.imshow(x_train[1])\n",
        "plt.show()\n",
        "\n",
        "plt.imshow(x_train_gray[1,:,:,0], cmap='gray')\n",
        "plt.show()"
      ],
      "execution_count": 3,
      "outputs": [
        {
          "output_type": "display_data",
          "data": {
            "image/png": "[encoded data removed]",
            "text/plain": [
              "<Figure size 432x288 with 1 Axes>"
            ]
          },
          "metadata": {
            "tags": [],
            "needs_background": "light"
          }
        },
        {
          "output_type": "display_data",
          "data": {
            "image/png": "[encoded data removed]",
            "text/plain": [
              "<Figure size 432x288 with 1 Axes>"
            ]
          },
          "metadata": {
            "tags": [],
            "needs_background": "light"
          }
        }
      ]
    },
    {
      "cell_type": "code",
      "metadata": {
        "id": "6LnZ1CPFIXnc",
        "colab_type": "code",
        "colab": {
          "base_uri": "https://localhost:8080/",
          "height": 2689
        },
        "outputId": "01607665-4588-4499-e0e8-a3278a47cbe5"
      },
      "source": [
        "np.random.seed(451)\n",
        "\n",
        "import datetime\n",
        "\n",
        "from keras.layers import Flatten, Activation, Conv2D, MaxPool2D, AvgPool2D, Dense, Dropout, BatchNormalization, Input, MaxPooling2D, Flatten, Activation, Conv2D, AvgPool2D, Dense, Dropout, concatenate, AveragePooling2D\n",
        "from keras.optimizers import Adam, SGD\n",
        "from keras.models import Sequential\n",
        "import keras.backend as K\n",
        "from keras.regularizers import l1,l2\n",
        "from keras.callbacks import EarlyStopping, ModelCheckpoint, TensorBoard, ReduceLROnPlateau\n",
        "from keras.models import model_from_json, Model\n",
        "\n",
        "def build_tower(input_layer, features_nr, shape, tower_nr, \n",
        "                dropout=False, normalization=False, regularization=\"l2\", dropout_ratio=0.25):\n",
        "    #3x3 kernel tower\n",
        "    tower = Conv2D(features_nr, (1,1), padding='same', activation='relu', \n",
        "                     kernel_regularizer=regularization, name='tower_%d_%dx%da'%(tower_nr, shape[0], shape[1]))(input_layer)\n",
        "    tower = Conv2D(features_nr*2, shape, padding='same', activation='relu',\n",
        "                     kernel_regularizer=regularization, name='tower_%d_%dx%db'%(tower_nr, shape[0], shape[1]))(tower)\n",
        "    #condidional dropout/normalization\n",
        "    if dropout:\n",
        "        tower = Dropout(dropout_ratio, name='tower_%d_%dx%ddrop'%(tower_nr, shape[0], shape[1]))(tower)\n",
        "    if normalization:\n",
        "        tower = BatchNormalization(name='tower_%d_%dx%dnorm'%(tower_nr, shape[0], shape[1]))(tower)\n",
        "        \n",
        "    return tower\n",
        "\n",
        "def build_simple_tower(input_layer, features_nr, shape, tower_nr, \n",
        "                dropout=False, normalization=False, regularization=\"l2\", dropout_ratio=0.25):\n",
        "    #3x3 kernel tower\n",
        "    tower = Conv2D(features_nr, shape, padding='same', activation='relu',\n",
        "                     kernel_regularizer=regularization, \n",
        "                   name='tower_simple_%d_%dx%db'%(tower_nr, shape[0], shape[1]))(input_layer)\n",
        "    #condidional dropout/normalization\n",
        "    if dropout:\n",
        "        tower = Dropout(dropout_ratio, name='tower_%d_%dx%ddrop'%(tower_nr, shape[0], shape[1]))(tower)\n",
        "    if normalization:\n",
        "        tower = BatchNormalization(name='tower_%d_%dx%dnorm'%(tower_nr, shape[0], shape[1]))(tower)\n",
        "        \n",
        "    return tower\n",
        "\n",
        "def build_tower_subsample(input_layer, features_nr, shape, tower_nr, \n",
        "                          dropout=False, normalization=False, regularization='l2', dropout_ratio=0.25):\n",
        "    tower = build_tower(input_layer, features_nr, shape, tower_nr, \n",
        "                        dropout, normalization, regularization, dropout_ratio)\n",
        "    pool = MaxPooling2D((2,2), padding='same', name='tower_%d_2x2subsample'%(tower_nr))(tower)\n",
        "\n",
        "    return pool\n",
        "\n",
        "def build_simple_tower_subsample(input_layer, features_nr, shape, tower_nr, \n",
        "                          dropout=False, normalization=False, regularization='l2', dropout_ratio=0.25):\n",
        "    tower = build_simple_tower(input_layer, features_nr, shape, tower_nr, \n",
        "                        dropout, normalization, regularization, dropout_ratio)\n",
        "    pool = MaxPooling2D((2,2), padding='same', name='tower_%d_2x2subsample'%(tower_nr))(tower)\n",
        "\n",
        "    return pool\n",
        "\n",
        "def build_dense(input_layer, neurons_nr, dense_nr, \n",
        "                dropout=False, normalization=False, regularization='l2', dropout_ratio=0.5):\n",
        "    dense = Dense(neurons_nr, kernel_regularizer=regularization, \n",
        "                  name='dense_%d_%d'%(dense_nr, neurons_nr))(input_layer)\n",
        "    \n",
        "    if dropout:\n",
        "        dense = Dropout(dropout_ratio, name='dense_%d_%ddrop'%(dense_nr, neurons_nr))(dense)\n",
        "    if normalization:\n",
        "        dense = BatchNormalization(name='dense_%d_%dnorm'%(dense_nr, neurons_nr))(dense)\n",
        "    \n",
        "    return dense\n",
        "\n",
        "def build_inception_module(input_layer, features_nr, module_nr, \n",
        "                           dropout=False, normalization=False, regularization='l2', dropout_ratio=0.2):  \n",
        "    #feature_nr is an array we'll use to build our layers\n",
        "    #data is in the form: [1x1, 3x3 reduce, 3x3, 5x5 reduce, 5x5, pool proj]\n",
        "  \n",
        "    inception_1x1 = Conv2D(features_nr[0],1,1,border_mode='same',activation='relu',name='inception_%d_/1x1'%(module_nr),W_regularizer=l2(0.0002))(input_layer)\n",
        "    \n",
        "    inception_3x3_reduce = Conv2D(features_nr[1],1,1,border_mode='same',activation='relu',name='inception_%d_/3x3_reduce'%(module_nr),W_regularizer=l2(0.0002))(input_layer)\n",
        "    \n",
        "    inception_3x3 = Conv2D(features_nr[2],3,3,border_mode='same',activation='relu',name='inception_%d_/3x3'%(module_nr),W_regularizer=l2(0.0002))(inception_3x3_reduce)\n",
        "    \n",
        "    inception_5x5_reduce = Conv2D(features_nr[3],1,1,border_mode='same',activation='relu',name='inception_%d_/5x5_reduce'%(module_nr),W_regularizer=l2(0.0002))(input_layer)\n",
        "    \n",
        "    inception_5x5 = Conv2D(features_nr[4],5,5,border_mode='same',activation='relu',name='inception_%d_/5x5'%(module_nr),W_regularizer=l2(0.0002))(inception_5x5_reduce)\n",
        "    \n",
        "    inception_pool = MaxPooling2D(pool_size=(3,3),strides=(1,1),border_mode='same',name='inception_%d_/pool'%(module_nr))(input_layer)\n",
        "    \n",
        "    inception_pool_proj = Conv2D(features_nr[5],1,1,border_mode='same',activation='relu',name='inception_%d_/pool_proj'%(module_nr),W_regularizer=l2(0.0002))(inception_pool)\n",
        "    \n",
        "    inception_output = concatenate([inception_1x1,inception_3x3,inception_5x5,inception_pool_proj],axis=3,name='inception_%d_/output'%(module_nr))\n",
        "\n",
        "    if dropout:\n",
        "        inception_output = Dropout(dropout_ratio, name='inception_%d_/output_drop'%(module_nr))(inception_output)\n",
        "    if normalization:\n",
        "        inception_output = BatchNormalization(name='inception_%d_/output_norm'%(module_nr))(inception_output)\n",
        "\n",
        "    pooled = MaxPooling2D((2,2), padding='same', name='inception_%d_2x2subsample'%(module_nr))(inception_output)\n",
        "    \n",
        "    return pooled\n",
        "\n",
        "i='cifar10-nrcrt7-'+datetime.datetime.now().strftime(\"%I:%M%p_%B-%d-%Y\")\n",
        "\n",
        "K.clear_session()\n",
        "\n",
        "!mkdir -p models\n",
        "!mkdir -p logs\n",
        "\n",
        "a = EarlyStopping(monitor='val_loss', min_delta=0, patience=10, verbose=1, mode='auto')#will stop the model if val_loss does not improve for 2 consecutive epochs\n",
        "b = ModelCheckpoint(monitor='val_loss', filepath='./models/'+str(i)+'.hdf5', verbose=1, save_best_only=True)#save model weights after each epoch if val_loss improves\n",
        "c = TensorBoard(log_dir='./logs/'+str(i),\n",
        "                write_grads=True,\n",
        "                write_graph=True,\n",
        "                write_images=True,\n",
        "                batch_size=128)#saves a log file for tensorboard; remember to save different runs to different subdirectories\n",
        "\n",
        "#we'll use this instead of decay\n",
        "d = ReduceLROnPlateau(monitor='val_loss', factor=0.1, patience=5, verbose=0, mode='auto', min_delta=0.0001, cooldown=0, min_lr=0)\n",
        "\n",
        "callbacks=[a,b,c,d]\n",
        "\n",
        "#------------model definition-------------------\n",
        "\n",
        "use_norm = True\n",
        "lrate = 0.001\n",
        "\n",
        "input_img = Input(shape = (32, 32, 3), name='input')\n",
        "\n",
        "#conv_1 = Conv2D(1, (1,1), padding='same', activation='relu', \n",
        "               # kernel_regularizer = regularization, name='conv_64x64x1_inception_in')(input_img)\n",
        "\n",
        "#hopefully this will learn a good internal representation of the image channels\n",
        "#conv_1 = Conv2D(1, (1,1), padding='same', activation='relu', \n",
        "                #kernel_regularizer = regularization, name='conv_64x64x1_inception_in')(input_img)\n",
        "\n",
        "inception_1 = build_inception_module(input_img, [64,96,128,16,32,32], 1, False, use_norm)\n",
        "\n",
        "inception_2 = build_inception_module(inception_1, [128,128,192,32,96,64], 2, False, use_norm)\n",
        "\n",
        "inception_3 = build_inception_module(inception_2, [192,96,208,16,48,64], 3, False, use_norm)\n",
        "\n",
        "inception_4 = build_inception_module(inception_3, [160, 112, 224, 24, 64, 64], 4, False, use_norm)\n",
        "#tower_3 = build_simple_tower(inception_2, 144, (3,3),  3, False, use_norm)\n",
        "#tower_4 = build_simple_tower_subsample(tower_3, 144, (3,3), 4, False, use_norm)\n",
        "\n",
        "#tower_5 = build_simple_tower(tower_4, 288, (3,3),  5, False, use_norm)\n",
        "#tower_6 = build_simple_tower_subsample(tower_5, 288, (3,3), 6, False, use_norm)\n",
        "\n",
        "#model top\n",
        "\n",
        "flat_pool = AveragePooling2D(pool_size=(2, 2), padding='valid')(inception_4)\n",
        "\n",
        "flat = Flatten()(flat_pool)\n",
        "\n",
        "\n",
        "dense_5 = build_dense(flat, 128, 1, True, use_norm)\n",
        "\n",
        "dense_6 = build_dense(dense_5, 64, 2, True, use_norm)\n",
        "\n",
        "out = Dense(10, activation='softmax')(dense_6)\n",
        "\n",
        "model = Model(inputs = input_img, outputs = out)\n",
        "\n",
        "#-----------------------------------------------\n",
        "\n",
        "model.compile(loss='binary_crossentropy',\n",
        "              optimizer=Adam(lrate),\n",
        "              metrics=['accuracy'])\n",
        "\n",
        "model.summary()\n",
        "\n",
        "model_json = model.to_json()\n",
        "with open(\"./models/\"+str(i)+\".json\", \"w\") as json_file:\n",
        "    json_file.write(model_json)\n",
        "\n",
        "print(\"Saved model to\" + \"../models/\"+str(i)+\".json\")\n"
      ],
      "execution_count": 4,
      "outputs": [
        {
          "output_type": "stream",
          "text": [
            "WARNING:tensorflow:From /tensorflow-1.15.2/python3.6/tensorflow_core/python/ops/resource_variable_ops.py:1630: calling BaseResourceVariable.__init__ (from tensorflow.python.ops.resource_variable_ops) with constraint is deprecated and will be removed in a future version.\n",
            "Instructions for updating:\n",
            "If using Keras pass *_constraint arguments to layers.\n",
            "WARNING:tensorflow:From /usr/local/lib/python3.6/dist-packages/keras/backend/tensorflow_backend.py:4070: The name tf.nn.max_pool is deprecated. Please use tf.nn.max_pool2d instead.\n",
            "\n"
          ],
          "name": "stdout"
        },
        {
          "output_type": "stream",
          "text": [
            "/usr/local/lib/python3.6/dist-packages/ipykernel_launcher.py:75: UserWarning: Update your `Conv2D` call to the Keras 2 API: `Conv2D(64, (1, 1), activation=\"relu\", name=\"inception_1_/1x1\", padding=\"same\", kernel_regularizer=<keras.reg...)`\n",
            "/usr/local/lib/python3.6/dist-packages/ipykernel_launcher.py:77: UserWarning: Update your `Conv2D` call to the Keras 2 API: `Conv2D(96, (1, 1), activation=\"relu\", name=\"inception_1_/3x3_reduce\", padding=\"same\", kernel_regularizer=<keras.reg...)`\n",
            "/usr/local/lib/python3.6/dist-packages/ipykernel_launcher.py:79: UserWarning: Update your `Conv2D` call to the Keras 2 API: `Conv2D(128, (3, 3), activation=\"relu\", name=\"inception_1_/3x3\", padding=\"same\", kernel_regularizer=<keras.reg...)`\n",
            "/usr/local/lib/python3.6/dist-packages/ipykernel_launcher.py:81: UserWarning: Update your `Conv2D` call to the Keras 2 API: `Conv2D(16, (1, 1), activation=\"relu\", name=\"inception_1_/5x5_reduce\", padding=\"same\", kernel_regularizer=<keras.reg...)`\n",
            "/usr/local/lib/python3.6/dist-packages/ipykernel_launcher.py:83: UserWarning: Update your `Conv2D` call to the Keras 2 API: `Conv2D(32, (5, 5), activation=\"relu\", name=\"inception_1_/5x5\", padding=\"same\", kernel_regularizer=<keras.reg...)`\n",
            "/usr/local/lib/python3.6/dist-packages/ipykernel_launcher.py:85: UserWarning: Update your `MaxPooling2D` call to the Keras 2 API: `MaxPooling2D(pool_size=(3, 3), strides=(1, 1), name=\"inception_1_/pool\", padding=\"same\")`\n",
            "/usr/local/lib/python3.6/dist-packages/ipykernel_launcher.py:87: UserWarning: Update your `Conv2D` call to the Keras 2 API: `Conv2D(32, (1, 1), activation=\"relu\", name=\"inception_1_/pool_proj\", padding=\"same\", kernel_regularizer=<keras.reg...)`\n",
            "/usr/local/lib/python3.6/dist-packages/ipykernel_launcher.py:75: UserWarning: Update your `Conv2D` call to the Keras 2 API: `Conv2D(128, (1, 1), activation=\"relu\", name=\"inception_2_/1x1\", padding=\"same\", kernel_regularizer=<keras.reg...)`\n",
            "/usr/local/lib/python3.6/dist-packages/ipykernel_launcher.py:77: UserWarning: Update your `Conv2D` call to the Keras 2 API: `Conv2D(128, (1, 1), activation=\"relu\", name=\"inception_2_/3x3_reduce\", padding=\"same\", kernel_regularizer=<keras.reg...)`\n",
            "/usr/local/lib/python3.6/dist-packages/ipykernel_launcher.py:79: UserWarning: Update your `Conv2D` call to the Keras 2 API: `Conv2D(192, (3, 3), activation=\"relu\", name=\"inception_2_/3x3\", padding=\"same\", kernel_regularizer=<keras.reg...)`\n",
            "/usr/local/lib/python3.6/dist-packages/ipykernel_launcher.py:81: UserWarning: Update your `Conv2D` call to the Keras 2 API: `Conv2D(32, (1, 1), activation=\"relu\", name=\"inception_2_/5x5_reduce\", padding=\"same\", kernel_regularizer=<keras.reg...)`\n",
            "/usr/local/lib/python3.6/dist-packages/ipykernel_launcher.py:83: UserWarning: Update your `Conv2D` call to the Keras 2 API: `Conv2D(96, (5, 5), activation=\"relu\", name=\"inception_2_/5x5\", padding=\"same\", kernel_regularizer=<keras.reg...)`\n",
            "/usr/local/lib/python3.6/dist-packages/ipykernel_launcher.py:85: UserWarning: Update your `MaxPooling2D` call to the Keras 2 API: `MaxPooling2D(pool_size=(3, 3), strides=(1, 1), name=\"inception_2_/pool\", padding=\"same\")`\n",
            "/usr/local/lib/python3.6/dist-packages/ipykernel_launcher.py:87: UserWarning: Update your `Conv2D` call to the Keras 2 API: `Conv2D(64, (1, 1), activation=\"relu\", name=\"inception_2_/pool_proj\", padding=\"same\", kernel_regularizer=<keras.reg...)`\n",
            "/usr/local/lib/python3.6/dist-packages/ipykernel_launcher.py:75: UserWarning: Update your `Conv2D` call to the Keras 2 API: `Conv2D(192, (1, 1), activation=\"relu\", name=\"inception_3_/1x1\", padding=\"same\", kernel_regularizer=<keras.reg...)`\n",
            "/usr/local/lib/python3.6/dist-packages/ipykernel_launcher.py:77: UserWarning: Update your `Conv2D` call to the Keras 2 API: `Conv2D(96, (1, 1), activation=\"relu\", name=\"inception_3_/3x3_reduce\", padding=\"same\", kernel_regularizer=<keras.reg...)`\n",
            "/usr/local/lib/python3.6/dist-packages/ipykernel_launcher.py:79: UserWarning: Update your `Conv2D` call to the Keras 2 API: `Conv2D(208, (3, 3), activation=\"relu\", name=\"inception_3_/3x3\", padding=\"same\", kernel_regularizer=<keras.reg...)`\n",
            "/usr/local/lib/python3.6/dist-packages/ipykernel_launcher.py:81: UserWarning: Update your `Conv2D` call to the Keras 2 API: `Conv2D(16, (1, 1), activation=\"relu\", name=\"inception_3_/5x5_reduce\", padding=\"same\", kernel_regularizer=<keras.reg...)`\n",
            "/usr/local/lib/python3.6/dist-packages/ipykernel_launcher.py:83: UserWarning: Update your `Conv2D` call to the Keras 2 API: `Conv2D(48, (5, 5), activation=\"relu\", name=\"inception_3_/5x5\", padding=\"same\", kernel_regularizer=<keras.reg...)`\n",
            "/usr/local/lib/python3.6/dist-packages/ipykernel_launcher.py:85: UserWarning: Update your `MaxPooling2D` call to the Keras 2 API: `MaxPooling2D(pool_size=(3, 3), strides=(1, 1), name=\"inception_3_/pool\", padding=\"same\")`\n",
            "/usr/local/lib/python3.6/dist-packages/ipykernel_launcher.py:87: UserWarning: Update your `Conv2D` call to the Keras 2 API: `Conv2D(64, (1, 1), activation=\"relu\", name=\"inception_3_/pool_proj\", padding=\"same\", kernel_regularizer=<keras.reg...)`\n",
            "/usr/local/lib/python3.6/dist-packages/ipykernel_launcher.py:75: UserWarning: Update your `Conv2D` call to the Keras 2 API: `Conv2D(160, (1, 1), activation=\"relu\", name=\"inception_4_/1x1\", padding=\"same\", kernel_regularizer=<keras.reg...)`\n",
            "/usr/local/lib/python3.6/dist-packages/ipykernel_launcher.py:77: UserWarning: Update your `Conv2D` call to the Keras 2 API: `Conv2D(112, (1, 1), activation=\"relu\", name=\"inception_4_/3x3_reduce\", padding=\"same\", kernel_regularizer=<keras.reg...)`\n"
          ],
          "name": "stderr"
        },
        {
          "output_type": "stream",
          "text": [
            "WARNING:tensorflow:From /usr/local/lib/python3.6/dist-packages/keras/backend/tensorflow_backend.py:4074: The name tf.nn.avg_pool is deprecated. Please use tf.nn.avg_pool2d instead.\n",
            "\n"
          ],
          "name": "stdout"
        },
        {
          "output_type": "stream",
          "text": [
            "/usr/local/lib/python3.6/dist-packages/ipykernel_launcher.py:79: UserWarning: Update your `Conv2D` call to the Keras 2 API: `Conv2D(224, (3, 3), activation=\"relu\", name=\"inception_4_/3x3\", padding=\"same\", kernel_regularizer=<keras.reg...)`\n",
            "/usr/local/lib/python3.6/dist-packages/ipykernel_launcher.py:81: UserWarning: Update your `Conv2D` call to the Keras 2 API: `Conv2D(24, (1, 1), activation=\"relu\", name=\"inception_4_/5x5_reduce\", padding=\"same\", kernel_regularizer=<keras.reg...)`\n",
            "/usr/local/lib/python3.6/dist-packages/ipykernel_launcher.py:83: UserWarning: Update your `Conv2D` call to the Keras 2 API: `Conv2D(64, (5, 5), activation=\"relu\", name=\"inception_4_/5x5\", padding=\"same\", kernel_regularizer=<keras.reg...)`\n",
            "/usr/local/lib/python3.6/dist-packages/ipykernel_launcher.py:85: UserWarning: Update your `MaxPooling2D` call to the Keras 2 API: `MaxPooling2D(pool_size=(3, 3), strides=(1, 1), name=\"inception_4_/pool\", padding=\"same\")`\n",
            "/usr/local/lib/python3.6/dist-packages/ipykernel_launcher.py:87: UserWarning: Update your `Conv2D` call to the Keras 2 API: `Conv2D(64, (1, 1), activation=\"relu\", name=\"inception_4_/pool_proj\", padding=\"same\", kernel_regularizer=<keras.reg...)`\n"
          ],
          "name": "stderr"
        },
        {
          "output_type": "stream",
          "text": [
            "Model: \"model_1\"\n",
            "__________________________________________________________________________________________________\n",
            "Layer (type)                    Output Shape         Param #     Connected to                     \n",
            "==================================================================================================\n",
            "input (InputLayer)              (None, 32, 32, 3)    0                                            \n",
            "__________________________________________________________________________________________________\n",
            "inception_1_/3x3_reduce (Conv2D (None, 32, 32, 96)   384         input[0][0]                      \n",
            "__________________________________________________________________________________________________\n",
            "inception_1_/5x5_reduce (Conv2D (None, 32, 32, 16)   64          input[0][0]                      \n",
            "__________________________________________________________________________________________________\n",
            "inception_1_/pool (MaxPooling2D (None, 32, 32, 3)    0           input[0][0]                      \n",
            "__________________________________________________________________________________________________\n",
            "inception_1_/1x1 (Conv2D)       (None, 32, 32, 64)   256         input[0][0]                      \n",
            "__________________________________________________________________________________________________\n",
            "inception_1_/3x3 (Conv2D)       (None, 32, 32, 128)  110720      inception_1_/3x3_reduce[0][0]    \n",
            "__________________________________________________________________________________________________\n",
            "inception_1_/5x5 (Conv2D)       (None, 32, 32, 32)   12832       inception_1_/5x5_reduce[0][0]    \n",
            "__________________________________________________________________________________________________\n",
            "inception_1_/pool_proj (Conv2D) (None, 32, 32, 32)   128         inception_1_/pool[0][0]          \n",
            "__________________________________________________________________________________________________\n",
            "inception_1_/output (Concatenat (None, 32, 32, 256)  0           inception_1_/1x1[0][0]           \n",
            "                                                                 inception_1_/3x3[0][0]           \n",
            "                                                                 inception_1_/5x5[0][0]           \n",
            "                                                                 inception_1_/pool_proj[0][0]     \n",
            "__________________________________________________________________________________________________\n",
            "inception_1_/output_norm (Batch (None, 32, 32, 256)  1024        inception_1_/output[0][0]        \n",
            "__________________________________________________________________________________________________\n",
            "inception_1_2x2subsample (MaxPo (None, 16, 16, 256)  0           inception_1_/output_norm[0][0]   \n",
            "__________________________________________________________________________________________________\n",
            "inception_2_/3x3_reduce (Conv2D (None, 16, 16, 128)  32896       inception_1_2x2subsample[0][0]   \n",
            "__________________________________________________________________________________________________\n",
            "inception_2_/5x5_reduce (Conv2D (None, 16, 16, 32)   8224        inception_1_2x2subsample[0][0]   \n",
            "__________________________________________________________________________________________________\n",
            "inception_2_/pool (MaxPooling2D (None, 16, 16, 256)  0           inception_1_2x2subsample[0][0]   \n",
            "__________________________________________________________________________________________________\n",
            "inception_2_/1x1 (Conv2D)       (None, 16, 16, 128)  32896       inception_1_2x2subsample[0][0]   \n",
            "__________________________________________________________________________________________________\n",
            "inception_2_/3x3 (Conv2D)       (None, 16, 16, 192)  221376      inception_2_/3x3_reduce[0][0]    \n",
            "__________________________________________________________________________________________________\n",
            "inception_2_/5x5 (Conv2D)       (None, 16, 16, 96)   76896       inception_2_/5x5_reduce[0][0]    \n",
            "__________________________________________________________________________________________________\n",
            "inception_2_/pool_proj (Conv2D) (None, 16, 16, 64)   16448       inception_2_/pool[0][0]          \n",
            "__________________________________________________________________________________________________\n",
            "inception_2_/output (Concatenat (None, 16, 16, 480)  0           inception_2_/1x1[0][0]           \n",
            "                                                                 inception_2_/3x3[0][0]           \n",
            "                                                                 inception_2_/5x5[0][0]           \n",
            "                                                                 inception_2_/pool_proj[0][0]     \n",
            "__________________________________________________________________________________________________\n",
            "inception_2_/output_norm (Batch (None, 16, 16, 480)  1920        inception_2_/output[0][0]        \n",
            "__________________________________________________________________________________________________\n",
            "inception_2_2x2subsample (MaxPo (None, 8, 8, 480)    0           inception_2_/output_norm[0][0]   \n",
            "__________________________________________________________________________________________________\n",
            "inception_3_/3x3_reduce (Conv2D (None, 8, 8, 96)     46176       inception_2_2x2subsample[0][0]   \n",
            "__________________________________________________________________________________________________\n",
            "inception_3_/5x5_reduce (Conv2D (None, 8, 8, 16)     7696        inception_2_2x2subsample[0][0]   \n",
            "__________________________________________________________________________________________________\n",
            "inception_3_/pool (MaxPooling2D (None, 8, 8, 480)    0           inception_2_2x2subsample[0][0]   \n",
            "__________________________________________________________________________________________________\n",
            "inception_3_/1x1 (Conv2D)       (None, 8, 8, 192)    92352       inception_2_2x2subsample[0][0]   \n",
            "__________________________________________________________________________________________________\n",
            "inception_3_/3x3 (Conv2D)       (None, 8, 8, 208)    179920      inception_3_/3x3_reduce[0][0]    \n",
            "__________________________________________________________________________________________________\n",
            "inception_3_/5x5 (Conv2D)       (None, 8, 8, 48)     19248       inception_3_/5x5_reduce[0][0]    \n",
            "__________________________________________________________________________________________________\n",
            "inception_3_/pool_proj (Conv2D) (None, 8, 8, 64)     30784       inception_3_/pool[0][0]          \n",
            "__________________________________________________________________________________________________\n",
            "inception_3_/output (Concatenat (None, 8, 8, 512)    0           inception_3_/1x1[0][0]           \n",
            "                                                                 inception_3_/3x3[0][0]           \n",
            "                                                                 inception_3_/5x5[0][0]           \n",
            "                                                                 inception_3_/pool_proj[0][0]     \n",
            "__________________________________________________________________________________________________\n",
            "inception_3_/output_norm (Batch (None, 8, 8, 512)    2048        inception_3_/output[0][0]        \n",
            "__________________________________________________________________________________________________\n",
            "inception_3_2x2subsample (MaxPo (None, 4, 4, 512)    0           inception_3_/output_norm[0][0]   \n",
            "__________________________________________________________________________________________________\n",
            "inception_4_/3x3_reduce (Conv2D (None, 4, 4, 112)    57456       inception_3_2x2subsample[0][0]   \n",
            "__________________________________________________________________________________________________\n",
            "inception_4_/5x5_reduce (Conv2D (None, 4, 4, 24)     12312       inception_3_2x2subsample[0][0]   \n",
            "__________________________________________________________________________________________________\n",
            "inception_4_/pool (MaxPooling2D (None, 4, 4, 512)    0           inception_3_2x2subsample[0][0]   \n",
            "__________________________________________________________________________________________________\n",
            "inception_4_/1x1 (Conv2D)       (None, 4, 4, 160)    82080       inception_3_2x2subsample[0][0]   \n",
            "__________________________________________________________________________________________________\n",
            "inception_4_/3x3 (Conv2D)       (None, 4, 4, 224)    226016      inception_4_/3x3_reduce[0][0]    \n",
            "__________________________________________________________________________________________________\n",
            "inception_4_/5x5 (Conv2D)       (None, 4, 4, 64)     38464       inception_4_/5x5_reduce[0][0]    \n",
            "__________________________________________________________________________________________________\n",
            "inception_4_/pool_proj (Conv2D) (None, 4, 4, 64)     32832       inception_4_/pool[0][0]          \n",
            "__________________________________________________________________________________________________\n",
            "inception_4_/output (Concatenat (None, 4, 4, 512)    0           inception_4_/1x1[0][0]           \n",
            "                                                                 inception_4_/3x3[0][0]           \n",
            "                                                                 inception_4_/5x5[0][0]           \n",
            "                                                                 inception_4_/pool_proj[0][0]     \n",
            "__________________________________________________________________________________________________\n",
            "inception_4_/output_norm (Batch (None, 4, 4, 512)    2048        inception_4_/output[0][0]        \n",
            "__________________________________________________________________________________________________\n",
            "inception_4_2x2subsample (MaxPo (None, 2, 2, 512)    0           inception_4_/output_norm[0][0]   \n",
            "__________________________________________________________________________________________________\n",
            "average_pooling2d_1 (AveragePoo (None, 1, 1, 512)    0           inception_4_2x2subsample[0][0]   \n",
            "__________________________________________________________________________________________________\n",
            "flatten_1 (Flatten)             (None, 512)          0           average_pooling2d_1[0][0]        \n",
            "__________________________________________________________________________________________________\n",
            "dense_1_128 (Dense)             (None, 128)          65664       flatten_1[0][0]                  \n",
            "__________________________________________________________________________________________________\n",
            "dense_1_128drop (Dropout)       (None, 128)          0           dense_1_128[0][0]                \n",
            "__________________________________________________________________________________________________\n",
            "dense_1_128norm (BatchNormaliza (None, 128)          512         dense_1_128drop[0][0]            \n",
            "__________________________________________________________________________________________________\n",
            "dense_2_64 (Dense)              (None, 64)           8256        dense_1_128norm[0][0]            \n",
            "__________________________________________________________________________________________________\n",
            "dense_2_64drop (Dropout)        (None, 64)           0           dense_2_64[0][0]                 \n",
            "__________________________________________________________________________________________________\n",
            "dense_2_64norm (BatchNormalizat (None, 64)           256         dense_2_64drop[0][0]             \n",
            "__________________________________________________________________________________________________\n",
            "dense_1 (Dense)                 (None, 10)           650         dense_2_64norm[0][0]             \n",
            "==================================================================================================\n",
            "Total params: 1,420,834\n",
            "Trainable params: 1,416,930\n",
            "Non-trainable params: 3,904\n",
            "__________________________________________________________________________________________________\n",
            "Saved model to../models/cifar10-nrcrt7-04:40PM_May-08-2020.json\n"
          ],
          "name": "stdout"
        }
      ]
    },
    {
      "cell_type": "code",
      "metadata": {
        "id": "9EDHmjuuIaVD",
        "colab_type": "code",
        "colab": {
          "base_uri": "https://localhost:8080/",
          "height": 2264
        },
        "outputId": "28c5aff6-6132-467f-e1b5-2197481796c1"
      },
      "source": [
        "import tensorflow as tf\n",
        "\n",
        "with tf.device('/gpu:0'):\n",
        "  model.fit(x_train, y_train_cat, batch_size=128, epochs=100, validation_split=0.2,verbose=1,callbacks=callbacks)  # starts training\n",
        "\n",
        "result = model.evaluate(x_test, y_test_cat)\n",
        "\n",
        "print(\"Accuracy on test set: \",result[1]*100,\"%\")\n",
        "\n"
      ],
      "execution_count": 5,
      "outputs": [
        {
          "output_type": "stream",
          "text": [
            "WARNING:tensorflow:From /tensorflow-1.15.2/python3.6/tensorflow_core/python/ops/math_grad.py:1424: where (from tensorflow.python.ops.array_ops) is deprecated and will be removed in a future version.\n",
            "Instructions for updating:\n",
            "Use tf.where in 2.0, which has the same broadcast rule as np.where\n",
            "WARNING:tensorflow:From /usr/local/lib/python3.6/dist-packages/keras/backend/tensorflow_backend.py:422: The name tf.global_variables is deprecated. Please use tf.compat.v1.global_variables instead.\n",
            "\n",
            "Train on 40000 samples, validate on 10000 samples\n",
            "WARNING:tensorflow:From /usr/local/lib/python3.6/dist-packages/keras/callbacks/tensorboard_v1.py:200: The name tf.summary.merge_all is deprecated. Please use tf.compat.v1.summary.merge_all instead.\n",
            "\n",
            "WARNING:tensorflow:From /usr/local/lib/python3.6/dist-packages/keras/callbacks/tensorboard_v1.py:203: The name tf.summary.FileWriter is deprecated. Please use tf.compat.v1.summary.FileWriter instead.\n",
            "\n",
            "Epoch 1/100\n",
            "40000/40000 [==============================] - 82s 2ms/step - loss: 0.9786 - accuracy: 0.9078 - val_loss: 0.5475 - val_accuracy: 0.9000\n",
            "\n",
            "Epoch 00001: val_loss improved from inf to 0.54750, saving model to ./models/cifar10-nrcrt7-04:40PM_May-08-2020.hdf5\n",
            "WARNING:tensorflow:From /usr/local/lib/python3.6/dist-packages/keras/callbacks/tensorboard_v1.py:343: The name tf.Summary is deprecated. Please use tf.compat.v1.Summary instead.\n",
            "\n",
            "Epoch 2/100\n",
            "40000/40000 [==============================] - 72s 2ms/step - loss: 0.3377 - accuracy: 0.9300 - val_loss: 0.3393 - val_accuracy: 0.9153\n",
            "\n",
            "Epoch 00002: val_loss improved from 0.54750 to 0.33929, saving model to ./models/cifar10-nrcrt7-04:40PM_May-08-2020.hdf5\n",
            "Epoch 3/100\n",
            "40000/40000 [==============================] - 72s 2ms/step - loss: 0.2591 - accuracy: 0.9399 - val_loss: 0.3167 - val_accuracy: 0.9171\n",
            "\n",
            "Epoch 00003: val_loss improved from 0.33929 to 0.31674, saving model to ./models/cifar10-nrcrt7-04:40PM_May-08-2020.hdf5\n",
            "Epoch 4/100\n",
            "40000/40000 [==============================] - 71s 2ms/step - loss: 0.2296 - accuracy: 0.9467 - val_loss: 0.2469 - val_accuracy: 0.9363\n",
            "\n",
            "Epoch 00004: val_loss improved from 0.31674 to 0.24687, saving model to ./models/cifar10-nrcrt7-04:40PM_May-08-2020.hdf5\n",
            "Epoch 5/100\n",
            "40000/40000 [==============================] - 71s 2ms/step - loss: 0.2144 - accuracy: 0.9502 - val_loss: 0.3080 - val_accuracy: 0.9187\n",
            "\n",
            "Epoch 00005: val_loss did not improve from 0.24687\n",
            "Epoch 6/100\n",
            "40000/40000 [==============================] - 71s 2ms/step - loss: 0.2049 - accuracy: 0.9531 - val_loss: 0.2228 - val_accuracy: 0.9451\n",
            "\n",
            "Epoch 00006: val_loss improved from 0.24687 to 0.22281, saving model to ./models/cifar10-nrcrt7-04:40PM_May-08-2020.hdf5\n",
            "Epoch 7/100\n",
            "40000/40000 [==============================] - 71s 2ms/step - loss: 0.1969 - accuracy: 0.9556 - val_loss: 0.2417 - val_accuracy: 0.9368\n",
            "\n",
            "Epoch 00007: val_loss did not improve from 0.22281\n",
            "Epoch 8/100\n",
            "40000/40000 [==============================] - 71s 2ms/step - loss: 0.1887 - accuracy: 0.9582 - val_loss: 0.2677 - val_accuracy: 0.9297\n",
            "\n",
            "Epoch 00008: val_loss did not improve from 0.22281\n",
            "Epoch 9/100\n",
            "40000/40000 [==============================] - 71s 2ms/step - loss: 0.1846 - accuracy: 0.9602 - val_loss: 0.1874 - val_accuracy: 0.9575\n",
            "\n",
            "Epoch 00009: val_loss improved from 0.22281 to 0.18743, saving model to ./models/cifar10-nrcrt7-04:40PM_May-08-2020.hdf5\n",
            "Epoch 10/100\n",
            "40000/40000 [==============================] - 71s 2ms/step - loss: 0.1789 - accuracy: 0.9621 - val_loss: 0.2336 - val_accuracy: 0.9437\n",
            "\n",
            "Epoch 00010: val_loss did not improve from 0.18743\n",
            "Epoch 11/100\n",
            "40000/40000 [==============================] - 72s 2ms/step - loss: 0.1765 - accuracy: 0.9624 - val_loss: 0.2677 - val_accuracy: 0.9331\n",
            "\n",
            "Epoch 00011: val_loss did not improve from 0.18743\n",
            "Epoch 12/100\n",
            "40000/40000 [==============================] - 72s 2ms/step - loss: 0.1687 - accuracy: 0.9649 - val_loss: 0.2325 - val_accuracy: 0.9402\n",
            "\n",
            "Epoch 00012: val_loss did not improve from 0.18743\n",
            "Epoch 13/100\n",
            "40000/40000 [==============================] - 72s 2ms/step - loss: 0.1663 - accuracy: 0.9661 - val_loss: 0.2548 - val_accuracy: 0.9369\n",
            "\n",
            "Epoch 00013: val_loss did not improve from 0.18743\n",
            "Epoch 14/100\n",
            "40000/40000 [==============================] - 72s 2ms/step - loss: 0.1645 - accuracy: 0.9666 - val_loss: 0.1929 - val_accuracy: 0.9553\n",
            "\n",
            "Epoch 00014: val_loss did not improve from 0.18743\n",
            "Epoch 15/100\n",
            "40000/40000 [==============================] - 71s 2ms/step - loss: 0.1309 - accuracy: 0.9777 - val_loss: 0.1438 - val_accuracy: 0.9702\n",
            "\n",
            "Epoch 00015: val_loss improved from 0.18743 to 0.14383, saving model to ./models/cifar10-nrcrt7-04:40PM_May-08-2020.hdf5\n",
            "Epoch 16/100\n",
            "40000/40000 [==============================] - 72s 2ms/step - loss: 0.1107 - accuracy: 0.9828 - val_loss: 0.1400 - val_accuracy: 0.9698\n",
            "\n",
            "Epoch 00016: val_loss improved from 0.14383 to 0.13995, saving model to ./models/cifar10-nrcrt7-04:40PM_May-08-2020.hdf5\n",
            "Epoch 17/100\n",
            "40000/40000 [==============================] - 72s 2ms/step - loss: 0.0990 - accuracy: 0.9856 - val_loss: 0.1350 - val_accuracy: 0.9705\n",
            "\n",
            "Epoch 00017: val_loss improved from 0.13995 to 0.13503, saving model to ./models/cifar10-nrcrt7-04:40PM_May-08-2020.hdf5\n",
            "Epoch 18/100\n",
            "40000/40000 [==============================] - 71s 2ms/step - loss: 0.0906 - accuracy: 0.9874 - val_loss: 0.1329 - val_accuracy: 0.9709\n",
            "\n",
            "Epoch 00018: val_loss improved from 0.13503 to 0.13293, saving model to ./models/cifar10-nrcrt7-04:40PM_May-08-2020.hdf5\n",
            "Epoch 19/100\n",
            "40000/40000 [==============================] - 71s 2ms/step - loss: 0.0834 - accuracy: 0.9892 - val_loss: 0.1320 - val_accuracy: 0.9704\n",
            "\n",
            "Epoch 00019: val_loss improved from 0.13293 to 0.13199, saving model to ./models/cifar10-nrcrt7-04:40PM_May-08-2020.hdf5\n",
            "Epoch 20/100\n",
            "40000/40000 [==============================] - 71s 2ms/step - loss: 0.0768 - accuracy: 0.9910 - val_loss: 0.1343 - val_accuracy: 0.9700\n",
            "\n",
            "Epoch 00020: val_loss did not improve from 0.13199\n",
            "Epoch 21/100\n",
            "40000/40000 [==============================] - 72s 2ms/step - loss: 0.0713 - accuracy: 0.9925 - val_loss: 0.1347 - val_accuracy: 0.9701\n",
            "\n",
            "Epoch 00021: val_loss did not improve from 0.13199\n",
            "Epoch 22/100\n",
            "40000/40000 [==============================] - 72s 2ms/step - loss: 0.0664 - accuracy: 0.9936 - val_loss: 0.1358 - val_accuracy: 0.9693\n",
            "\n",
            "Epoch 00022: val_loss did not improve from 0.13199\n",
            "Epoch 23/100\n",
            "40000/40000 [==============================] - 72s 2ms/step - loss: 0.0617 - accuracy: 0.9951 - val_loss: 0.1394 - val_accuracy: 0.9693\n",
            "\n",
            "Epoch 00023: val_loss did not improve from 0.13199\n",
            "Epoch 24/100\n",
            "40000/40000 [==============================] - 72s 2ms/step - loss: 0.0580 - accuracy: 0.9959 - val_loss: 0.1413 - val_accuracy: 0.9689\n",
            "\n",
            "Epoch 00024: val_loss did not improve from 0.13199\n",
            "Epoch 25/100\n",
            "40000/40000 [==============================] - 72s 2ms/step - loss: 0.0533 - accuracy: 0.9977 - val_loss: 0.1384 - val_accuracy: 0.9699\n",
            "\n",
            "Epoch 00025: val_loss did not improve from 0.13199\n",
            "Epoch 26/100\n",
            "40000/40000 [==============================] - 71s 2ms/step - loss: 0.0516 - accuracy: 0.9981 - val_loss: 0.1389 - val_accuracy: 0.9700\n",
            "\n",
            "Epoch 00026: val_loss did not improve from 0.13199\n",
            "Epoch 27/100\n",
            "40000/40000 [==============================] - 72s 2ms/step - loss: 0.0507 - accuracy: 0.9983 - val_loss: 0.1388 - val_accuracy: 0.9699\n",
            "\n",
            "Epoch 00027: val_loss did not improve from 0.13199\n",
            "Epoch 28/100\n",
            "40000/40000 [==============================] - 72s 2ms/step - loss: 0.0501 - accuracy: 0.9985 - val_loss: 0.1391 - val_accuracy: 0.9699\n",
            "\n",
            "Epoch 00028: val_loss did not improve from 0.13199\n",
            "Epoch 29/100\n",
            "40000/40000 [==============================] - 71s 2ms/step - loss: 0.0494 - accuracy: 0.9986 - val_loss: 0.1404 - val_accuracy: 0.9699\n",
            "\n",
            "Epoch 00029: val_loss did not improve from 0.13199\n",
            "Epoch 00029: early stopping\n",
            "10000/10000 [==============================] - 8s 815us/step\n",
            "Accuracy on test set:  96.87296748161316 %\n"
          ],
          "name": "stdout"
        }
      ]
    },
    {
      "cell_type": "code",
      "metadata": {
        "id": "F5QuuTCBIjW3",
        "colab_type": "code",
        "colab": {
          "base_uri": "https://localhost:8080/",
          "height": 51
        },
        "outputId": "4d5590f1-cfe4-4d69-fb3f-b59d94f1b004"
      },
      "source": [
        "predict = model.predict(x_test)\n",
        "m = max(predict[7])\n",
        "index = [i for i,j in enumerate(predict[7]) if j == m]\n",
        "print(\"The value of the prediction of test sample with index 7 is :\")\n",
        "print(index)"
      ],
      "execution_count": 9,
      "outputs": [
        {
          "output_type": "stream",
          "text": [
            "The value of the prediction of test sample with index 7 is :\n",
            "[6]\n"
          ],
          "name": "stdout"
        }
      ]
    },
    {
      "cell_type": "code",
      "metadata": {
        "id": "cXUkcp6AIwHL",
        "colab_type": "code",
        "colab": {
          "base_uri": "https://localhost:8080/",
          "height": 283
        },
        "outputId": "fb7a5fc0-f172-4b82-ac35-a2a8ad5b0113"
      },
      "source": [
        "print(\"The actual class of test sample with index 7 is: \")\n",
        "plt.imshow(x_test[7,:,:,0], cmap='gray')\n",
        "plt.show()"
      ],
      "execution_count": 10,
      "outputs": [
        {
          "output_type": "stream",
          "text": [
            "The actual class of test sample with index 7 is: \n"
          ],
          "name": "stdout"
        },
        {
          "output_type": "display_data",
          "data": {
            "image/png": "[encoded data removed]",
            "text/plain": [
              "<Figure size 432x288 with 1 Axes>"
            ]
          },
          "metadata": {
            "tags": [],
            "needs_background": "light"
          }
        }
      ]
    },
    {
      "cell_type": "code",
      "metadata": {
        "id": "HLftgyczIdx2",
        "colab_type": "code",
        "colab": {
          "base_uri": "https://localhost:8080/",
          "height": 51
        },
        "outputId": "1ef8dabb-6c16-49fb-b19c-7be5536d9ff7"
      },
      "source": [
        "model.load_weights('./models/cifar10-nrcrt7-04:40PM_May-08-2020.hdf5')\n",
        "\n",
        "result = model.evaluate(x_test, y_test_cat)\n",
        "\n",
        "print(result)"
      ],
      "execution_count": 11,
      "outputs": [
        {
          "output_type": "stream",
          "text": [
            "10000/10000 [==============================] - 8s 794us/step\n",
            "[0.13478883649110793, 0.9691197276115417]\n"
          ],
          "name": "stdout"
        }
      ]
    }
  ]
}